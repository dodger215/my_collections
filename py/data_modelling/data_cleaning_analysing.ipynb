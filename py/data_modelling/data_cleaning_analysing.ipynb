{
 "cells": [
  {
   "cell_type": "code",
   "execution_count": null,
   "id": "bf1e6225-1849-494b-8472-cf5d4112fc61",
   "metadata": {},
   "outputs": [],
   "source": []
  },
  {
   "cell_type": "code",
   "execution_count": null,
   "id": "01346faa-d40c-4065-8cae-b90982f5e918",
   "metadata": {},
   "outputs": [
    {
     "data": {
      "text/html": [
       "<div>\n",
       "<style scoped>\n",
       "    .dataframe tbody tr th:only-of-type {\n",
       "        vertical-align: middle;\n",
       "    }\n",
       "\n",
       "    .dataframe tbody tr th {\n",
       "        vertical-align: top;\n",
       "    }\n",
       "\n",
       "    .dataframe thead th {\n",
       "        text-align: right;\n",
       "    }\n",
       "</style>\n",
       "<table border=\"1\" class=\"dataframe\">\n",
       "  <thead>\n",
       "    <tr style=\"text-align: right;\">\n",
       "      <th></th>\n",
       "      <th>work_year</th>\n",
       "      <th>experience_level</th>\n",
       "      <th>employment_type</th>\n",
       "      <th>job_title</th>\n",
       "      <th>salary</th>\n",
       "      <th>salary_currency</th>\n",
       "      <th>salary_in_usd</th>\n",
       "      <th>employee_residence</th>\n",
       "      <th>remote_ratio</th>\n",
       "      <th>company_location</th>\n",
       "      <th>company_size</th>\n",
       "    </tr>\n",
       "  </thead>\n",
       "  <tbody>\n",
       "    <tr>\n",
       "      <th>16529</th>\n",
       "      <td>2020</td>\n",
       "      <td>SE</td>\n",
       "      <td>FT</td>\n",
       "      <td>Data Scientist</td>\n",
       "      <td>412000</td>\n",
       "      <td>USD</td>\n",
       "      <td>412000</td>\n",
       "      <td>US</td>\n",
       "      <td>100</td>\n",
       "      <td>US</td>\n",
       "      <td>L</td>\n",
       "    </tr>\n",
       "    <tr>\n",
       "      <th>16530</th>\n",
       "      <td>2021</td>\n",
       "      <td>MI</td>\n",
       "      <td>FT</td>\n",
       "      <td>Principal Data Scientist</td>\n",
       "      <td>151000</td>\n",
       "      <td>USD</td>\n",
       "      <td>151000</td>\n",
       "      <td>US</td>\n",
       "      <td>100</td>\n",
       "      <td>US</td>\n",
       "      <td>L</td>\n",
       "    </tr>\n",
       "    <tr>\n",
       "      <th>16531</th>\n",
       "      <td>2020</td>\n",
       "      <td>EN</td>\n",
       "      <td>FT</td>\n",
       "      <td>Data Scientist</td>\n",
       "      <td>105000</td>\n",
       "      <td>USD</td>\n",
       "      <td>105000</td>\n",
       "      <td>US</td>\n",
       "      <td>100</td>\n",
       "      <td>US</td>\n",
       "      <td>S</td>\n",
       "    </tr>\n",
       "    <tr>\n",
       "      <th>16532</th>\n",
       "      <td>2020</td>\n",
       "      <td>EN</td>\n",
       "      <td>CT</td>\n",
       "      <td>Business Data Analyst</td>\n",
       "      <td>100000</td>\n",
       "      <td>USD</td>\n",
       "      <td>100000</td>\n",
       "      <td>US</td>\n",
       "      <td>100</td>\n",
       "      <td>US</td>\n",
       "      <td>L</td>\n",
       "    </tr>\n",
       "    <tr>\n",
       "      <th>16533</th>\n",
       "      <td>2021</td>\n",
       "      <td>SE</td>\n",
       "      <td>FT</td>\n",
       "      <td>Data Science Manager</td>\n",
       "      <td>7000000</td>\n",
       "      <td>INR</td>\n",
       "      <td>94665</td>\n",
       "      <td>IN</td>\n",
       "      <td>50</td>\n",
       "      <td>IN</td>\n",
       "      <td>L</td>\n",
       "    </tr>\n",
       "  </tbody>\n",
       "</table>\n",
       "</div>"
      ],
      "text/plain": [
       "       work_year experience_level employment_type                 job_title  \\\n",
       "16529       2020               SE              FT            Data Scientist   \n",
       "16530       2021               MI              FT  Principal Data Scientist   \n",
       "16531       2020               EN              FT            Data Scientist   \n",
       "16532       2020               EN              CT     Business Data Analyst   \n",
       "16533       2021               SE              FT      Data Science Manager   \n",
       "\n",
       "        salary salary_currency  salary_in_usd employee_residence  \\\n",
       "16529   412000             USD         412000                 US   \n",
       "16530   151000             USD         151000                 US   \n",
       "16531   105000             USD         105000                 US   \n",
       "16532   100000             USD         100000                 US   \n",
       "16533  7000000             INR          94665                 IN   \n",
       "\n",
       "       remote_ratio company_location company_size  \n",
       "16529           100               US            L  \n",
       "16530           100               US            L  \n",
       "16531           100               US            S  \n",
       "16532           100               US            L  \n",
       "16533            50               IN            L  "
      ]
     },
     "execution_count": 2,
     "metadata": {},
     "output_type": "execute_result"
    }
   ],
   "source": [
    "##### By Kelvin Enos-Dzah\n",
    "# importing pandas\n",
    "import pandas as pd\n",
    "\n",
    "sheet_name = 'Dataset salary 2024'\n",
    "dataset = pd.read_excel('Dataset salary 2024.xlsx', sheet_name)\n",
    "\n",
    "dataset.tail()"
   ]
  },
  {
   "cell_type": "code",
   "execution_count": 6,
   "id": "6c50023a-4c72-4c2f-8f46-39bd2ba7da15",
   "metadata": {},
   "outputs": [],
   "source": []
  },
  {
   "cell_type": "code",
   "execution_count": 4,
   "id": "cf550a24-edbd-43e4-92eb-8b957248f2e5",
   "metadata": {},
   "outputs": [
    {
     "name": "stdout",
     "output_type": "stream",
     "text": [
      "                      job_title  salary_in_usd salary_category\n",
      "16529            Data Scientist         412000            High\n",
      "16530  Principal Data Scientist         151000            High\n",
      "16531            Data Scientist         105000            High\n",
      "16532     Business Data Analyst         100000            High\n",
      "16533      Data Science Manager          94665             Low\n"
     ]
    }
   ],
   "source": [
    "\n",
    "dataset['salary_category'] = dataset['salary_in_usd'].apply(lambda x: 'Low' if x < 100000 else 'High')\n",
    "\n",
    "# Display the updated DataFrame with the new column\n",
    "print(dataset[['job_title', 'salary_in_usd', 'salary_category']].tail())\n"
   ]
  },
  {
   "cell_type": "code",
   "execution_count": 13,
   "id": "6d39fe1b-fb91-44ee-a8b4-8b002073f957",
   "metadata": {},
   "outputs": [],
   "source": [
    "# Export the updated DataFrame to an Excel file\n",
    "dataset.to_excel('Updated_Dataset_Salary_2024.xlsx', index=False)"
   ]
  },
  {
   "cell_type": "code",
   "execution_count": 6,
   "id": "bd7e1bd5-159e-4013-9789-b64851c4ce9e",
   "metadata": {},
   "outputs": [
    {
     "name": "stdout",
     "output_type": "stream",
     "text": [
      "16529    Full-Time\n",
      "16530    Full-Time\n",
      "16531    Full-Time\n",
      "16532     Contract\n",
      "16533    Full-Time\n",
      "Name: employment_type, dtype: object\n"
     ]
    }
   ],
   "source": [
    "# Replace abbreviations in the 'employment_type' column with their full meanings\n",
    "employment_type_mapping = {\n",
    "    'FT': 'Full-Time',\n",
    "    'PT': 'Part-Time',\n",
    "    'CT': 'Contract',\n",
    "    'FL': 'Freelance'\n",
    "}\n",
    "\n",
    "# Apply the mapping\n",
    "dataset['employment_type'] = dataset['employment_type'].replace(employment_type_mapping)\n",
    "\n",
    "print(dataset['employment_type'].tail())\n",
    "# dataset.head()\n",
    "\n",
    "# Save the updated DataFrame (if needed)\n",
    "# dataset.to_excel('Dataset_Salary_2024_q2.xlsx', index=False)\n"
   ]
  },
  {
   "cell_type": "code",
   "execution_count": 17,
   "id": "6d8d232f-2b5d-446f-996d-d7d03a5e250f",
   "metadata": {},
   "outputs": [
    {
     "name": "stdout",
     "output_type": "stream",
     "text": [
      "Total salary earned by all respondents: 2474921187\n"
     ]
    }
   ],
   "source": [
    "# Calculate the total salary earned by all respondents\n",
    "total_salary_all_respondents = dataset['salary_in_usd'].sum()\n",
    "print(f\"Total salary earned by all respondents: {total_salary_all_respondents}\")"
   ]
  },
  {
   "cell_type": "code",
   "execution_count": 18,
   "id": "125f905c-4802-4c58-bf6f-058db7c17810",
   "metadata": {},
   "outputs": [
    {
     "name": "stdout",
     "output_type": "stream",
     "text": [
      "Total salary earned by Data Scientists: 510799545\n"
     ]
    }
   ],
   "source": [
    "# Calculate the total salary for Data Scientists\n",
    "total_salary_data_scientists = dataset[dataset['job_title'] == 'Data Scientist']['salary_in_usd'].sum()\n",
    "print(f\"Total salary earned by Data Scientists: {total_salary_data_scientists}\")\n"
   ]
  },
  {
   "cell_type": "code",
   "execution_count": 19,
   "id": "71cb254c-0114-4279-a60f-15ac759a3f64",
   "metadata": {},
   "outputs": [
    {
     "name": "stdout",
     "output_type": "stream",
     "text": [
      "Total salary earned by Full-Time Data Analysts: 262896068\n"
     ]
    }
   ],
   "source": [
    "# Calculate total salary for Data Analysts with Full-Time employment\n",
    "total_salary_data_analysts_ft = dataset[(dataset['job_title'] == 'Data Analyst') & (dataset['experience_level'] == 'EN')]['salary_in_usd'].sum()\n",
    "print(f\"Total salary earned by Full-Time Data Analysts: {total_salary_data_analysts_ft}\")\n"
   ]
  },
  {
   "cell_type": "code",
   "execution_count": 21,
   "id": "938c3181-5b21-4c16-b610-5fb1d5875b37",
   "metadata": {},
   "outputs": [
    {
     "name": "stdout",
     "output_type": "stream",
     "text": [
      "Total salary experience_level en earned by Data Analysts: 0\n"
     ]
    }
   ],
   "source": [
    "total_salary_data_analysts = dataset[(dataset['job_title'] == 'Data Analyst') &(dataset['employment_type'] == 'EN')]['salary_in_usd'].sum()\n",
    "print(f\"Total salary experience_level en earned by Data Analysts: {total_salary_data_analysts}\")"
   ]
  },
  {
   "cell_type": "code",
   "execution_count": null,
   "id": "aa63e52e-4528-4e68-906e-0007aff5a3a3",
   "metadata": {},
   "outputs": [],
   "source": []
  }
 ],
 "metadata": {
  "kernelspec": {
   "display_name": "Python 3 (ipykernel)",
   "language": "python",
   "name": "python3"
  },
  "language_info": {
   "codemirror_mode": {
    "name": "ipython",
    "version": 3
   },
   "file_extension": ".py",
   "mimetype": "text/x-python",
   "name": "python",
   "nbconvert_exporter": "python",
   "pygments_lexer": "ipython3",
   "version": "3.12.4"
  }
 },
 "nbformat": 4,
 "nbformat_minor": 5
}
